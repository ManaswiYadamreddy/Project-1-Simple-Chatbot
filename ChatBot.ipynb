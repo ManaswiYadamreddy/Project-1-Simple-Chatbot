{
 "cells": [
  {
   "cell_type": "code",
   "execution_count": 1,
   "id": "dd8fafbd",
   "metadata": {},
   "outputs": [
    {
     "name": "stderr",
     "output_type": "stream",
     "text": [
      "C:\\Users\\Manaswi\\anaconda3\\anaconda\\envs\\tgpu\\lib\\site-packages\\numpy\\_distributor_init.py:32: UserWarning: loaded more than 1 DLL from .libs:\n",
      "C:\\Users\\Manaswi\\anaconda3\\anaconda\\envs\\tgpu\\lib\\site-packages\\numpy\\.libs\\libopenblas.PYQHXLVVQ7VESDPUVUADXEVJOBGHJPAY.gfortran-win_amd64.dll\n",
      "C:\\Users\\Manaswi\\anaconda3\\anaconda\\envs\\tgpu\\lib\\site-packages\\numpy\\.libs\\libopenblas.XWYDX2IKJW2NMTWSFYNGFUWKQU3LYTCZ.gfortran-win_amd64.dll\n",
      "  stacklevel=1)\n"
     ]
    }
   ],
   "source": [
    "# import required packages\n",
    "from chatterbot import ChatBot\n",
    "from chatterbot.conversation import Statement\n",
    "from chatterbot.trainers import ChatterBotCorpusTrainer\n",
    "from chatterbot.logic import BestMatch\n",
    "from chatterbot.trainers import ChatterBotCorpusTrainer\n",
    "from chatterbot.logic import LogicAdapter"
   ]
  },
  {
   "cell_type": "code",
   "execution_count": 2,
   "id": "9f09f3b4",
   "metadata": {},
   "outputs": [
    {
     "name": "stdout",
     "output_type": "stream",
     "text": [
      "\r",
      "Training ai.yml: [                    ] 1%"
     ]
    },
    {
     "name": "stderr",
     "output_type": "stream",
     "text": [
      "[nltk_data] Downloading package averaged_perceptron_tagger to\n",
      "[nltk_data]     C:\\Users\\Manaswi\\AppData\\Roaming\\nltk_data...\n",
      "[nltk_data]   Package averaged_perceptron_tagger is already up-to-\n",
      "[nltk_data]       date!\n",
      "[nltk_data] Downloading package punkt to\n",
      "[nltk_data]     C:\\Users\\Manaswi\\AppData\\Roaming\\nltk_data...\n",
      "[nltk_data]   Package punkt is already up-to-date!\n",
      "[nltk_data] Downloading package stopwords to\n",
      "[nltk_data]     C:\\Users\\Manaswi\\AppData\\Roaming\\nltk_data...\n",
      "[nltk_data]   Package stopwords is already up-to-date!\n"
     ]
    },
    {
     "name": "stdout",
     "output_type": "stream",
     "text": [
      "Training ai.yml: [####################] 100%\n",
      "Training botprofile.yml: [####################] 100%\n",
      "Training computers.yml: [####################] 100%\n",
      "Training conversations.yml: [####################] 100%\n",
      "Training emotion.yml: [####################] 100%\n",
      "Training food.yml: [####################] 100%\n",
      "Training gossip.yml: [####################] 100%\n",
      "Training greetings.yml: [####################] 100%\n",
      "Training health.yml: [####################] 100%\n",
      "Training history.yml: [####################] 100%\n",
      "Training humor.yml: [####################] 100%\n",
      "Training literature.yml: [####################] 100%\n",
      "Training money.yml: [####################] 100%\n",
      "Training movies.yml: [####################] 100%\n",
      "Training politics.yml: [####################] 100%\n",
      "Training psychology.yml: [####################] 100%\n",
      "Training science.yml: [####################] 100%\n",
      "Training sports.yml: [####################] 100%\n",
      "Training trivia.yml: [####################] 100%\n"
     ]
    }
   ],
   "source": [
    "# create ChatBot\n",
    "chatBot = ChatBot('ChatBot')\n",
    "\n",
    "# create ChatBot trainer\n",
    "trainer = ChatterBotCorpusTrainer(chatBot)\n",
    "\n",
    "# Train ChatBot with English language corpus\n",
    "# you can train with different language\n",
    "# or with your custom .yam file\n",
    "trainer.train(\"chatterbot.corpus.english\")\n"
   ]
  },
  {
   "cell_type": "code",
   "execution_count": 3,
   "id": "62024f3c",
   "metadata": {},
   "outputs": [],
   "source": [
    "questions = [\n",
    "    \"What's your favorite color?\",\n",
    "    \"How are you doing today?\",\n",
    "    \"What's your hobby?\"\n",
    "]"
   ]
  },
  {
   "cell_type": "code",
   "execution_count": null,
   "id": "144aef05",
   "metadata": {},
   "outputs": [],
   "source": [
    "for question in questions:\n",
    "    user_response = input(f\"{chatBot.name}: {question}\\n>>> \")\n",
    "\n",
    "    # Get the response from ChatBot\n",
    "    bot_response = chatBot.get_response(Statement(text=user_response, search_text=user_response))\n",
    "\n",
    "    # Print ChatBot's response\n",
    "    print(f\"{chatBot.name}: {bot_response}\")"
   ]
  },
  {
   "cell_type": "code",
   "execution_count": null,
   "id": "e5f49e14",
   "metadata": {},
   "outputs": [],
   "source": [
    "while True:\n",
    "    # Take user input/query\n",
    "    query = input(\">>> \")\n",
    "    # Response from ChatBot\n",
    "    # Put query in Statement format to avoid runtime alert messages\n",
    "    # Statement(text=query, search_text=query)\n",
    "    print(chatBot.get_response(Statement(text=query, search_text=query)))"
   ]
  },
  {
   "cell_type": "code",
   "execution_count": 22,
   "id": "d06f2913",
   "metadata": {},
   "outputs": [],
   "source": [
    "def chatbot():\n",
    "    questions = [\n",
    "        \"Hi! How are you doing today?\",\n",
    "        \"What's your favorite color?\",\n",
    "        \"What's your hobby?\"\n",
    "    ]\n",
    "\n",
    "    i = 0\n",
    "    responses = []\n",
    "\n",
    "    # Ask the user three questions\n",
    "    for question in questions:\n",
    "        user_response = input(f\"{chatBot.name}: {question}\\n>>> \")\n",
    "\n",
    "        # Get the response from ChatBot\n",
    "        try:\n",
    "            bot_response = chatBot.get_response(Statement(text=user_response, search_text=user_response))\n",
    "        except:\n",
    "            bot_response = \"I'm sorry, I didn't understand that. Could you please rephrase?\"\n",
    "\n",
    "        print(f\"{chatBot.name}: {bot_response}\")\n",
    "        responses.append(user_response)\n",
    "    print(\"User responses:\", responses)\n",
    "\n",
    "        \n",
    "\n",
    "    # Keep the conversation going\n",
    "    while True:\n",
    "        query = input(\">>> \")\n",
    "\n",
    "        if query.lower() in ['bye', 'goodbye']:\n",
    "            print(f\"{chatBot.name}: Goodbye! Have a great day!\")\n",
    "            break\n",
    "\n",
    "        # Response from ChatBot\n",
    "        try:\n",
    "            response = chatBot.get_response(Statement(text=query, search_text=query))\n",
    "            print(f\"{chatBot.name}: {response}\")\n",
    "        except:\n",
    "            print(f\"{chatBot.name}: I'm sorry, I didn't understand that. Could you please rephrase?\")"
   ]
  },
  {
   "cell_type": "markdown",
   "id": "0b31fc40",
   "metadata": {},
   "source": [
    "### Initialize Cha"
   ]
  },
  {
   "cell_type": "code",
   "execution_count": 23,
   "id": "c813cff7",
   "metadata": {},
   "outputs": [
    {
     "name": "stdout",
     "output_type": "stream",
     "text": [
      "ChatBot: Hi! How are you doing today?\n",
      ">>> good\n",
      "ChatBot: what do you get when you cross a cat and a tune?\n",
      "ChatBot: What's your favorite color?\n",
      ">>> blue\n",
      "ChatBot: It is a pleasure to meet you.\n",
      "ChatBot: What's your hobby?\n",
      ">>> dandjin\n",
      "ChatBot: Tell me a joke\n",
      "User responses: ['good', 'blue', 'dandjin']\n",
      ">>> what hap\n",
      "ChatBot: It is a computer\n",
      ">>> okay bye\n",
      "ChatBot: I can move through a network easily. Assuming that I'm given the ability to, that is...\n",
      ">>> bye\n",
      "ChatBot: Goodbye! Have a great day!\n"
     ]
    }
   ],
   "source": [
    "chatbot()"
   ]
  }
 ],
 "metadata": {
  "kernelspec": {
   "display_name": "Python 3 (ipykernel)",
   "language": "python",
   "name": "python3"
  },
  "language_info": {
   "codemirror_mode": {
    "name": "ipython",
    "version": 3
   },
   "file_extension": ".py",
   "mimetype": "text/x-python",
   "name": "python",
   "nbconvert_exporter": "python",
   "pygments_lexer": "ipython3",
   "version": "3.7.16"
  }
 },
 "nbformat": 4,
 "nbformat_minor": 5
}
